{
  "nbformat": 4,
  "nbformat_minor": 0,
  "metadata": {
    "colab": {
      "name": "preprocessing_adaptive_gamma_correction.ipynb",
      "provenance": [],
      "collapsed_sections": [],
      "authorship_tag": "ABX9TyOrQg2wvKT++HG4ah8E7gjz",
      "include_colab_link": true
    },
    "kernelspec": {
      "name": "python3",
      "display_name": "Python 3"
    }
  },
  "cells": [
    {
      "cell_type": "markdown",
      "metadata": {
        "id": "view-in-github",
        "colab_type": "text"
      },
      "source": [
        "<a href=\"https://colab.research.google.com/github/Chung-Kiseop/PM-2019/blob/master/gamma_correction_with_preprocessing.ipynb\" target=\"_parent\"><img src=\"https://colab.research.google.com/assets/colab-badge.svg\" alt=\"Open In Colab\"/></a>"
      ]
    },
    {
      "cell_type": "code",
      "metadata": {
        "id": "SSUWOlgRJdPL"
      },
      "source": [
        "#Import library\n",
        "import cv2\n",
        "import glob\n",
        "import argparse\n",
        "import numpy as np\n",
        "from matplotlib import pyplot as plt\n",
        "from scipy.linalg import fractional_matrix_power\n",
        "from tqdm import notebook\n",
        "\n",
        "Enable_LOG = False"
      ],
      "execution_count": null,
      "outputs": []
    },
    {
      "cell_type": "code",
      "metadata": {
        "id": "5orUuWFQObTb"
      },
      "source": [
        "#preprocessing function\n",
        "def preprocessing(img):\n",
        "    #img.shape = (224, 224, 3)\n",
        "\n",
        "    # Extract intensity component of the image\n",
        "    YCrCb = cv2.cvtColor(img, cv2.COLOR_BGR2YCrCb)\n",
        "    Y = YCrCb[:,:,0]\n",
        "    # Determine whether image is bright or dimmed\n",
        "    threshold = 0.3\n",
        "    exp_in = 112 # Expected global average intensity \n",
        "    M,N = img.shape[:2]\n",
        "    mean_in = np.sum(Y/(M*N)) \n",
        "\n",
        "    t = (mean_in - exp_in)/ exp_in\n",
        "        \n",
        "    # Process image for gamma correction\n",
        "    img_output = None\n",
        "    if t < -threshold: # Dimmed Image\n",
        "        if(Enable_LOG):\n",
        "            print (\"Dimmed Image\")\n",
        "        result = process_dimmed(Y)\n",
        "        YCrCb[:,:,0] = result\n",
        "        img_output = cv2.cvtColor(YCrCb,cv2.COLOR_YCrCb2BGR)\n",
        "        flag=True\n",
        "    elif t > threshold:\n",
        "        if(Enable_LOG):\n",
        "            print (\"Bright Image\") # Bright Image\n",
        "        result = process_bright(Y)\n",
        "        YCrCb[:,:,0] = result\n",
        "        img_output = cv2.cvtColor(YCrCb,cv2.COLOR_YCrCb2BGR)\n",
        "        flag=True\n",
        "    else:\n",
        "        img_output = img\n",
        "        flag=False\n",
        "\n",
        "    return img_output"
      ],
      "execution_count": null,
      "outputs": []
    },
    {
      "cell_type": "code",
      "metadata": {
        "id": "y1eCAaGNOTl7"
      },
      "source": [
        "#Bright/Dimmed image processing help function\n",
        "def image_agcwd(img, a=0.25, truncated_cdf=False):\n",
        "    h,w = img.shape[:2]\n",
        "    hist,bins = np.histogram(img.flatten(),256,[0,256])\n",
        "    cdf = hist.cumsum()\n",
        "    cdf_normalized = cdf / cdf.max()\n",
        "    prob_normalized = hist / hist.sum()\n",
        "\n",
        "    unique_intensity = np.unique(img)\n",
        "    intensity_max = unique_intensity.max()\n",
        "    intensity_min = unique_intensity.min()\n",
        "    prob_min = prob_normalized.min()\n",
        "    prob_max = prob_normalized.max()\n",
        "    \n",
        "    pn_temp = (prob_normalized - prob_min) / (prob_max - prob_min)\n",
        "    pn_temp[pn_temp>0] = prob_max * (pn_temp[pn_temp>0]**a)\n",
        "    pn_temp[pn_temp<0] = prob_max * (-((-pn_temp[pn_temp<0])**a))\n",
        "    prob_normalized_wd = pn_temp / pn_temp.sum() # normalize to [0,1]\n",
        "    cdf_prob_normalized_wd = prob_normalized_wd.cumsum()\n",
        "    \n",
        "    if truncated_cdf: \n",
        "        inverse_cdf = np.maximum(0.5,1 - cdf_prob_normalized_wd)\n",
        "    else:\n",
        "        inverse_cdf = 1 - cdf_prob_normalized_wd\n",
        "    \n",
        "    img_new = img.copy()\n",
        "    for i in unique_intensity:\n",
        "        img_new[img==i] = np.round(255 * (i / 255)**inverse_cdf[i])\n",
        "   \n",
        "    return img_new\n",
        "\n",
        "def process_bright(img):\n",
        "    img_negative = 255 - img\n",
        "    agcwd = image_agcwd(img_negative, a=0.25, truncated_cdf=False)\n",
        "    #original a=0.25\n",
        "    reversed = 255 - agcwd\n",
        "    return reversed\n",
        "\n",
        "def process_dimmed(img):\n",
        "    agcwd = image_agcwd(img, a=0.75, truncated_cdf=True)\n",
        "    #original a=0.75\n",
        "    return agcwd"
      ],
      "execution_count": null,
      "outputs": []
    }
  ]
}